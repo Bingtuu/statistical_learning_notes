{
 "cells": [
  {
   "cell_type": "markdown",
   "metadata": {
    "toc": true
   },
   "source": [
    "<h1>Table of Contents<span class=\"tocSkip\"></span></h1>\n",
    "<div class=\"toc\"><ul class=\"toc-item\"><li><span><a href=\"#统计学习笔记（03）：线性回归\" data-toc-modified-id=\"统计学习笔记（03）：线性回归-1\"><span class=\"toc-item-num\">1&nbsp;&nbsp;</span>统计学习笔记（03）：线性回归</a></span><ul class=\"toc-item\"><li><span><a href=\"#最小二乘法\" data-toc-modified-id=\"最小二乘法-1.1\"><span class=\"toc-item-num\">1.1&nbsp;&nbsp;</span>最小二乘法</a></span></li><li><span><a href=\"#正则化\" data-toc-modified-id=\"正则化-1.2\"><span class=\"toc-item-num\">1.2&nbsp;&nbsp;</span>正则化</a></span></li><li><span><a href=\"#参考资料：\" data-toc-modified-id=\"参考资料：-1.3\"><span class=\"toc-item-num\">1.3&nbsp;&nbsp;</span>参考资料：</a></span></li></ul></li></ul></div>"
   ]
  },
  {
   "cell_type": "markdown",
   "metadata": {},
   "source": [
    "#### 统计学习笔记（03）：线性回归\n",
    "2020-02-07"
   ]
  },
  {
   "cell_type": "markdown",
   "metadata": {},
   "source": [
    "##### 最小二乘法"
   ]
  },
  {
   "cell_type": "markdown",
   "metadata": {},
   "source": [
    "##### 正则化"
   ]
  },
  {
   "cell_type": "markdown",
   "metadata": {},
   "source": [
    "##### 参考资料： \n",
    "* [shuhuai008](https://github.com/shuhuai007/Machine-Learning-Session)：[机器学习-白板推导系列-合集](https://www.bilibili.com/video/av70839977)"
   ]
  }
 ],
 "metadata": {
  "kernelspec": {
   "display_name": "Python 3",
   "language": "python",
   "name": "python3"
  },
  "language_info": {
   "codemirror_mode": {
    "name": "ipython",
    "version": 3
   },
   "file_extension": ".py",
   "mimetype": "text/x-python",
   "name": "python",
   "nbconvert_exporter": "python",
   "pygments_lexer": "ipython3",
   "version": "3.7.2"
  },
  "toc": {
   "base_numbering": 1,
   "nav_menu": {},
   "number_sections": true,
   "sideBar": true,
   "skip_h1_title": true,
   "title_cell": "Table of Contents",
   "title_sidebar": "Contents",
   "toc_cell": true,
   "toc_position": {},
   "toc_section_display": true,
   "toc_window_display": true
  }
 },
 "nbformat": 4,
 "nbformat_minor": 4
}
